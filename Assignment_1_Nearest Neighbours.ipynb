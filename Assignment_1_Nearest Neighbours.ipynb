{
 "cells": [
  {
   "cell_type": "markdown",
   "id": "b7712c9d",
   "metadata": {},
   "source": [
    "##ASSIGNMENT-1: NEAREST NEIGHBOURS"
   ]
  },
  {
   "cell_type": "markdown",
   "id": "e50cc638",
   "metadata": {},
   "source": [
    "Importing the required Packages for the code:"
   ]
  },
  {
   "cell_type": "code",
   "execution_count": 74,
   "id": "65e6e230",
   "metadata": {},
   "outputs": [],
   "source": [
    "import numpy as np \n",
    "from sklearn.datasets import load_iris\n",
    "from sklearn.model_selection import train_test_split\n",
    "import math"
   ]
  },
  {
   "cell_type": "markdown",
   "id": "d70ab9ea",
   "metadata": {},
   "source": [
    "Loading the Datasets:"
   ]
  },
  {
   "cell_type": "code",
   "execution_count": 75,
   "id": "acd3931a",
   "metadata": {},
   "outputs": [],
   "source": [
    "iris_data = load_iris()\n",
    "X1 = iris_data.data\n",
    "y1 = iris_data.target\n",
    "\n",
    "X2 = np.genfromtxt(\"ionosphere.txt\", delimiter=',', usecols=np.arange(34))\n",
    "y2 = np.genfromtxt(\"ionosphere.txt\", delimiter=',', usecols=34, dtype='int')"
   ]
  },
  {
   "cell_type": "markdown",
   "id": "623e13a9",
   "metadata": {},
   "source": [
    "Splitting Data into Training and Test sets:"
   ]
  },
  {
   "cell_type": "code",
   "execution_count": 76,
   "id": "1c22eb48",
   "metadata": {},
   "outputs": [],
   "source": [
    "X1_train, X1_test, y1_train, y1_test = train_test_split(X1, y1, random_state=3005)\n",
    "X2_train, X2_test, y2_train, y2_test = train_test_split(X2, y2, random_state=3005)"
   ]
  },
  {
   "cell_type": "markdown",
   "id": "965ad6f7",
   "metadata": {},
   "source": [
    "Checking our data:"
   ]
  },
  {
   "cell_type": "code",
   "execution_count": 77,
   "id": "a7f4f1ba",
   "metadata": {},
   "outputs": [
    {
     "name": "stdout",
     "output_type": "stream",
     "text": [
      "[[5.1 3.5 1.4 0.2]\n",
      " [4.9 3.  1.4 0.2]\n",
      " [4.7 3.2 1.3 0.2]]\n",
      "=======================\n",
      "[0 0 0]\n",
      "=======================\n",
      "=======================\n",
      "[[ 1.       0.       0.99539 -0.05889  0.85243  0.02306  0.83398 -0.37708\n",
      "   1.       0.0376   0.85243 -0.17755  0.59755 -0.44945  0.60536 -0.38223\n",
      "   0.84356 -0.38542  0.58212 -0.32192  0.56971 -0.29674  0.36946 -0.47357\n",
      "   0.56811 -0.51171  0.41078 -0.46168  0.21266 -0.3409   0.42267 -0.54487\n",
      "   0.18641 -0.453  ]\n",
      " [ 1.       0.       1.      -0.18829  0.93035 -0.36156 -0.10868 -0.93597\n",
      "   1.      -0.04549  0.50874 -0.67743  0.34432 -0.69707 -0.51685 -0.97515\n",
      "   0.05499 -0.62237  0.33109 -1.      -0.13151 -0.453   -0.18056 -0.35734\n",
      "  -0.20332 -0.26569 -0.20468 -0.18401 -0.1904  -0.11593 -0.16626 -0.06288\n",
      "  -0.13738 -0.02447]\n",
      " [ 1.       0.       1.      -0.03365  1.       0.00485  1.      -0.12062\n",
      "   0.88965  0.01198  0.73082  0.05346  0.85443  0.00827  0.54591  0.00299\n",
      "   0.83775 -0.13644  0.75535 -0.0854   0.70887 -0.27502  0.43385 -0.12062\n",
      "   0.57528 -0.4022   0.58984 -0.22145  0.431   -0.17365  0.60436 -0.2418\n",
      "   0.56045 -0.38238]]\n",
      "=======================\n",
      "[ 1 -1  1]\n",
      "=======================\n",
      "=======================\n"
     ]
    }
   ],
   "source": [
    "print(X1[:3])\n",
    "print(\"=======================\")\n",
    "print(y1[:3])\n",
    "print(\"=======================\")\n",
    "print(\"=======================\")\n",
    "print(X2[:3])\n",
    "print(\"=======================\")\n",
    "print(y2[:3])\n",
    "print(\"=======================\")\n",
    "print(\"=======================\")"
   ]
  },
  {
   "cell_type": "markdown",
   "id": "233d140f",
   "metadata": {},
   "source": [
    "Calculating the Euclidean Distance:"
   ]
  },
  {
   "cell_type": "code",
   "execution_count": 78,
   "id": "d44b543d",
   "metadata": {},
   "outputs": [],
   "source": [
    "def Euc_dist(r1,r2):\n",
    "    dist = 0\n",
    "    for i in range(len(r1)-1):\n",
    "        dist = dist + ((r1[i]-r2[i])**2)\n",
    "    return math.sqrt(dist)"
   ]
  },
  {
   "cell_type": "markdown",
   "id": "531f61b6",
   "metadata": {},
   "source": [
    "Sort Function:"
   ]
  },
  {
   "cell_type": "code",
   "execution_count": 79,
   "id": "f4f685d5",
   "metadata": {},
   "outputs": [],
   "source": [
    "def sorting(distances):\n",
    "    sorted_list = []\n",
    "    copy_d = list() \n",
    "    copy_d = distances.copy()\n",
    "\n",
    "    while distances:\n",
    "        minimum = distances[0]\n",
    "        for item in distances:\n",
    "            if item < minimum:\n",
    "                minimum = item\n",
    "        sorted_list.append(minimum)\n",
    "        distances.remove(minimum)\n",
    "    return sorted_list"
   ]
  },
  {
   "cell_type": "markdown",
   "id": "01a44505",
   "metadata": {},
   "source": [
    "K Nearest Prediction:"
   ]
  },
  {
   "cell_type": "code",
   "execution_count": 80,
   "id": "caad54c4",
   "metadata": {},
   "outputs": [],
   "source": [
    "def k_nearest_predict(sorted_list,copy_d,k,ytrain):\n",
    "    l1,l2,l3=0,0,0\n",
    "    for i in range(len(copy_d)):\n",
    "        if sorted_list[0]==copy_d[i]:\n",
    "            l1=i\n",
    "        elif sorted_list[1]==copy_d[i]:\n",
    "            l2=i\n",
    "        elif sorted_list[2]==copy_d[i]:\n",
    "            l3=i\n",
    "    #print(l1,l2,l3)\n",
    "    \n",
    "    if k==1:\n",
    "        ans1= ytrain[l1]\n",
    "    elif k==3:\n",
    "        if ytrain[l1]==ytrain[l2] or ytrain[l1]==ytrain[l3]:\n",
    "            ans1= ytrain[l1]\n",
    "        elif ytrain[l2]==ytrain[l3] or ytrain[l1]==ytrain[l2]:\n",
    "            ans1= ytrain[l2]\n",
    "        elif ytrain[l1]!=ytrain[l2]!=ytrain[l3]:\n",
    "            ans1= ytrain[l1]\n",
    "    return ans1"
   ]
  },
  {
   "cell_type": "markdown",
   "id": "f2fee49a",
   "metadata": {},
   "source": [
    "Similar Neighbours:"
   ]
  },
  {
   "cell_type": "code",
   "execution_count": 81,
   "id": "c0973fb3",
   "metadata": {},
   "outputs": [],
   "source": [
    "def similar_neighbours(train,test,k,ytrain):\n",
    "    i=0\n",
    "    j=0\n",
    "    distances=list()\n",
    "    answers=list()\n",
    "    predict=list()\n",
    "    sorted_list=list()\n",
    "    copy_d=list()\n",
    "    a=len(train)\n",
    "    b=len(test)\n",
    "    while j<b:\n",
    "        while i < a:\n",
    "            dist1=Euc_dist(train[i],test[j])\n",
    "            distances.append(dist1)\n",
    "            i=i+1\n",
    "            #print(distances)\n",
    "        copy_d=distances.copy()\n",
    "        sorted_list=sorting(distances)\n",
    "        predict=k_nearest_predict(sorted_list,copy_d,k,ytrain)\n",
    "        answers.append(predict)\n",
    "        i=0\n",
    "        j=j+1\n",
    "                \n",
    "    #print(answers)\n",
    "    return answers "
   ]
  },
  {
   "cell_type": "markdown",
   "id": "36a566f0",
   "metadata": {},
   "source": [
    "Calculating the Error Rate:"
   ]
  },
  {
   "cell_type": "code",
   "execution_count": 97,
   "id": "4d796e91",
   "metadata": {},
   "outputs": [],
   "source": [
    "def error_rate(actual, predicted):\n",
    "    cal_val = 0\n",
    "    for i in range(len(actual)):\n",
    "        if actual[i] == predicted[i]:\n",
    "            cal_val += 1\n",
    "    error=(1-(cal_val / float(len(actual))))*100\n",
    "    accuracy=(cal_val / float(len(actual)))*100\n",
    "    print('Error:',error,'\\nAccuracy:',accuracy)\n",
    "    return \"--\""
   ]
  },
  {
   "cell_type": "markdown",
   "id": "ca4f7049",
   "metadata": {},
   "source": [
    "K=1 for Iris Dataset:"
   ]
  },
  {
   "cell_type": "code",
   "execution_count": 98,
   "id": "97b25d25",
   "metadata": {
    "scrolled": true
   },
   "outputs": [
    {
     "name": "stdout",
     "output_type": "stream",
     "text": [
      "Error: 10.526315789473683 \n",
      "Accuracy: 89.47368421052632\n",
      "--\n"
     ]
    }
   ],
   "source": [
    "pred1=similar_neighbours(X1_train,X1_test,1,y1_train)\n",
    "print(error_rate(y1_test,pred1))"
   ]
  },
  {
   "cell_type": "markdown",
   "id": "8c7beddf",
   "metadata": {},
   "source": [
    "K=3 for Iris Dataset:"
   ]
  },
  {
   "cell_type": "code",
   "execution_count": 99,
   "id": "e7b66588",
   "metadata": {},
   "outputs": [
    {
     "name": "stdout",
     "output_type": "stream",
     "text": [
      "Error: 7.8947368421052655 \n",
      "Accuracy: 92.10526315789474\n",
      "--\n"
     ]
    }
   ],
   "source": [
    "pred2=similar_neighbours(X1_train,X1_test,3,y1_train)\n",
    "print(error_rate(y1_test,pred2))"
   ]
  },
  {
   "cell_type": "markdown",
   "id": "b16bd6e2",
   "metadata": {},
   "source": [
    "K=1 for Ionosphere Dataset:"
   ]
  },
  {
   "cell_type": "code",
   "execution_count": 100,
   "id": "6677ebcd",
   "metadata": {},
   "outputs": [
    {
     "name": "stdout",
     "output_type": "stream",
     "text": [
      "Error: 22.72727272727273 \n",
      "Accuracy: 77.27272727272727\n",
      "--\n"
     ]
    }
   ],
   "source": [
    "pred3=similar_neighbours(X2_train,X2_test,1,y2_train)\n",
    "print(error_rate(y2_test,pred3))"
   ]
  },
  {
   "cell_type": "markdown",
   "id": "cad60611",
   "metadata": {},
   "source": [
    "K=3 for Ionosphere Dataset:"
   ]
  },
  {
   "cell_type": "code",
   "execution_count": 101,
   "id": "bd655fb4",
   "metadata": {},
   "outputs": [
    {
     "name": "stdout",
     "output_type": "stream",
     "text": [
      "Error: 22.72727272727273 \n",
      "Accuracy: 77.27272727272727\n",
      "--\n"
     ]
    }
   ],
   "source": [
    "pred4=similar_neighbours(X2_train,X2_test,3,y2_train)\n",
    "print(error_rate(y2_test,pred4))"
   ]
  },
  {
   "cell_type": "code",
   "execution_count": null,
   "id": "c17abe38",
   "metadata": {},
   "outputs": [],
   "source": []
  }
 ],
 "metadata": {
  "kernelspec": {
   "display_name": "Python 3",
   "language": "python",
   "name": "python3"
  },
  "language_info": {
   "codemirror_mode": {
    "name": "ipython",
    "version": 3
   },
   "file_extension": ".py",
   "mimetype": "text/x-python",
   "name": "python",
   "nbconvert_exporter": "python",
   "pygments_lexer": "ipython3",
   "version": "3.8.8"
  }
 },
 "nbformat": 4,
 "nbformat_minor": 5
}
